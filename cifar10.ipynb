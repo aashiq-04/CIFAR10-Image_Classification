{
  "nbformat": 4,
  "nbformat_minor": 0,
  "metadata": {
    "colab": {
      "provenance": [],
      "authorship_tag": "ABX9TyP3syB9UcM3ML7v0muZn1O0"
    },
    "kernelspec": {
      "name": "python3",
      "display_name": "Python 3"
    },
    "language_info": {
      "name": "python"
    }
  },
  "cells": [
    {
      "cell_type": "code",
      "execution_count": null,
      "metadata": {
        "id": "tYPpfcYzsbBG"
      },
      "outputs": [],
      "source": [
        "import tensorflow as tf\n",
        "import numpy as np\n",
        "import pandas as pd\n",
        "import matplotlib.pyplot as plt\n",
        "from tensorflow import keras\n",
        "\n"
      ]
    },
    {
      "cell_type": "code",
      "source": [
        "(x_train, y_train), (x_test, y_test)=tf.keras.datasets.cifar10.load_data()"
      ],
      "metadata": {
        "colab": {
          "base_uri": "https://localhost:8080/"
        },
        "id": "4kDLwd0NyTTX",
        "outputId": "25978aa5-582c-4d91-afec-37979f7e2c25"
      },
      "execution_count": null,
      "outputs": [
        {
          "output_type": "stream",
          "name": "stdout",
          "text": [
            "Downloading data from https://www.cs.toronto.edu/~kriz/cifar-10-python.tar.gz\n",
            "170498071/170498071 [==============================] - 2s 0us/step\n"
          ]
        }
      ]
    },
    {
      "cell_type": "code",
      "source": [
        "def plot_sample(ind):\n",
        "  plt.figure(figsize=(10,1))\n",
        "  plt.imshow(x_train[ind])"
      ],
      "metadata": {
        "id": "4xTqxFsTyxQn"
      },
      "execution_count": null,
      "outputs": []
    },
    {
      "cell_type": "code",
      "source": [
        "classes=[\"airplane\",\"automobile\",\"bird\",\"cat\",\"deer\",\"dog\",\"frog\",\"horse\",\"ship\",\"truck\"]"
      ],
      "metadata": {
        "id": "vRjJqHFpAuWu"
      },
      "execution_count": null,
      "outputs": []
    },
    {
      "cell_type": "code",
      "source": [
        "#Scaling our data by dividing by 255\n",
        "x_train_scaled=x_train/255\n",
        "x_test_scaled=x_test/255"
      ],
      "metadata": {
        "id": "9szKA__vBmDa"
      },
      "execution_count": null,
      "outputs": []
    },
    {
      "cell_type": "code",
      "source": [
        "#One Hot Encoding\n",
        "y_train_categorical=tf.keras.utils.to_categorical(y_train,num_classes=10,dtype='float32')\n",
        "y_test_categorical=tf.keras.utils.to_categorical(y_test,num_classes=10,dtype='float32')"
      ],
      "metadata": {
        "id": "P-UnoOQfCXIp"
      },
      "execution_count": null,
      "outputs": []
    },
    {
      "cell_type": "code",
      "source": [
        "#Model Building\n",
        "model=keras.Sequential([\n",
        "    keras.layers.Flatten(input_shape=(32,32,3)),\n",
        "    keras.layers.Dense(3000, activation='relu'),\n",
        "    keras.layers.Dense(1000, activation='relu'),\n",
        "    keras.layers.Dense(10, activation='sigmoid')\n",
        "])\n",
        "#Used Categorical_Crossentropy since we did One Hot Encoding on our y_train and y_test data\n",
        "model.compile(optimizer='SGD',loss='categorical_crossentropy',metrics=['accuracy'])\n",
        "\n",
        "model.fit(x_train_scaled,y_train_categorical,epochs=50)"
      ],
      "metadata": {
        "id": "yhiAXGuODl7y"
      },
      "execution_count": null,
      "outputs": []
    },
    {
      "cell_type": "code",
      "source": [
        "classes[np.argmax(model.predict(x_test_scaled)[144])]"
      ],
      "metadata": {
        "id": "0PVuTZGUKgK-"
      },
      "execution_count": null,
      "outputs": []
    },
    {
      "cell_type": "code",
      "source": [
        "classes[y_test[144][0]]"
      ],
      "metadata": {
        "id": "Qnui6RuujGvg"
      },
      "execution_count": null,
      "outputs": []
    },
    {
      "cell_type": "code",
      "source": [
        "model.evaluate(x_test_scaled,y_test_categorical)"
      ],
      "metadata": {
        "id": "08ETLR4NjRs1"
      },
      "execution_count": null,
      "outputs": []
    }
  ]
}